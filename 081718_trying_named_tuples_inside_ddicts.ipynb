{
 "cells": [
  {
   "cell_type": "markdown",
   "metadata": {},
   "source": [
    "https://www.programiz.com/python-programming/nested-dictionary .."
   ]
  },
  {
   "cell_type": "code",
   "execution_count": 30,
   "metadata": {},
   "outputs": [],
   "source": [
    "import collections\n",
    "from collections import defaultdict\n"
   ]
  },
  {
   "cell_type": "code",
   "execution_count": 63,
   "metadata": {},
   "outputs": [],
   "source": [
    "# take this is as my starting point\n",
    "grades = [('John', 'French', 'C') ,\n",
    "('John', 'English', 'A') ,\n",
    "('Marie', 'English', 'C') ,\n",
    "('Marie', 'French', 'A') ,\n",
    "('Sven', 'Norse', 'A') ,\n",
    "('Sven', 'English', 'C') \n",
    "]\n"
   ]
  },
  {
   "cell_type": "code",
   "execution_count": 51,
   "metadata": {},
   "outputs": [],
   "source": [
    "# arrange a ddict by student\n",
    "# since ive created a new type can i pass that into ddict? .. yes\n",
    "term_grades = collections.namedtuple('term_grades',['course','grade'])\n",
    "course_grades = defaultdict(term_grades)"
   ]
  },
  {
   "cell_type": "code",
   "execution_count": 52,
   "metadata": {},
   "outputs": [],
   "source": [
    "for grade in grades:  \n",
    "    course_grades[grade[0]] = term_grades(grade[1],grade[2])"
   ]
  },
  {
   "cell_type": "code",
   "execution_count": 53,
   "metadata": {},
   "outputs": [
    {
     "name": "stdout",
     "output_type": "stream",
     "text": [
      "defaultdict(<class '__main__.term_grades'>, {'John': term_grades(course='English', grade='A'), 'Marie': term_grades(course='French', grade='A'), 'Sven': term_grades(course='English', grade='C')})\n"
     ]
    }
   ],
   "source": [
    "print(course_grades)"
   ]
  },
  {
   "cell_type": "code",
   "execution_count": 54,
   "metadata": {},
   "outputs": [
    {
     "data": {
      "text/plain": [
       "term_grades(course='English', grade='C')"
      ]
     },
     "execution_count": 54,
     "metadata": {},
     "output_type": "execute_result"
    }
   ],
   "source": [
    "course_grades['Sven']"
   ]
  },
  {
   "cell_type": "code",
   "execution_count": 56,
   "metadata": {},
   "outputs": [
    {
     "ename": "TypeError",
     "evalue": "tuple indices must be integers or slices, not str",
     "output_type": "error",
     "traceback": [
      "\u001b[1;31m---------------------------------------------------------------------------\u001b[0m",
      "\u001b[1;31mTypeError\u001b[0m                                 Traceback (most recent call last)",
      "\u001b[1;32m<ipython-input-56-b9d884bce5c0>\u001b[0m in \u001b[0;36m<module>\u001b[1;34m()\u001b[0m\n\u001b[1;32m----> 1\u001b[1;33m \u001b[0mcourse_grades\u001b[0m\u001b[1;33m[\u001b[0m\u001b[1;34m'Sven'\u001b[0m\u001b[1;33m]\u001b[0m\u001b[1;33m[\u001b[0m\u001b[1;34m'English'\u001b[0m\u001b[1;33m]\u001b[0m\u001b[1;33m\u001b[0m\u001b[0m\n\u001b[0m",
      "\u001b[1;31mTypeError\u001b[0m: tuple indices must be integers or slices, not str"
     ]
    }
   ],
   "source": [
    "course_grades['Sven']['English'] # i can't do this"
   ]
  },
  {
   "cell_type": "code",
   "execution_count": 57,
   "metadata": {},
   "outputs": [
    {
     "data": {
      "text/plain": [
       "'English'"
      ]
     },
     "execution_count": 57,
     "metadata": {},
     "output_type": "execute_result"
    }
   ],
   "source": [
    "course_grades['Sven'].course # just English? what happened to his A in Norse? I've overwritten again..."
   ]
  },
  {
   "cell_type": "code",
   "execution_count": null,
   "metadata": {},
   "outputs": [],
   "source": [
    "# try 2"
   ]
  },
  {
   "cell_type": "code",
   "execution_count": 70,
   "metadata": {},
   "outputs": [],
   "source": [
    "# arrange a ddict by student\n",
    "# need multiple named tuples per student\n",
    "course_grades = defaultdict(list)"
   ]
  },
  {
   "cell_type": "code",
   "execution_count": 81,
   "metadata": {},
   "outputs": [],
   "source": [
    "\n",
    "for name, course, grade in grades:  \n",
    "    if not course_grades[name]:\n",
    "        course_grades[name] = [] # ugh, why do i have to do this? isn't there a way around this?\n",
    "    course_grades[name].append(term_grades(course, grade)) "
   ]
  },
  {
   "cell_type": "code",
   "execution_count": 82,
   "metadata": {},
   "outputs": [
    {
     "data": {
      "text/plain": [
       "[term_grades(course='Norse', grade='A'),\n",
       " term_grades(course='English', grade='C')]"
      ]
     },
     "execution_count": 82,
     "metadata": {},
     "output_type": "execute_result"
    }
   ],
   "source": [
    "course_grades['Sven'] # did sven get both his Norse and English grades? yes, he's happy"
   ]
  },
  {
   "cell_type": "code",
   "execution_count": 83,
   "metadata": {},
   "outputs": [
    {
     "name": "stdout",
     "output_type": "stream",
     "text": [
      "defaultdict(<class 'list'>, {'John': [term_grades(course='French', grade='C'), term_grades(course='English', grade='A')], 'Marie': [term_grades(course='English', grade='C'), term_grades(course='French', grade='A')], 'Sven': [term_grades(course='Norse', grade='A'), term_grades(course='English', grade='C')]})\n"
     ]
    }
   ],
   "source": [
    "print(course_grades)"
   ]
  },
  {
   "cell_type": "code",
   "execution_count": 90,
   "metadata": {},
   "outputs": [
    {
     "name": "stdout",
     "output_type": "stream",
     "text": [
      "A\n",
      "C\n",
      "C\n"
     ]
    }
   ],
   "source": [
    "# can i look at just the english grades for Sven? everybody?\n",
    "for course, grades in course_grades.items():\n",
    "    for tgrade in grades:\n",
    "         if tgrade.course == 'English':\n",
    "                print (tgrade.grade)"
   ]
  },
  {
   "cell_type": "code",
   "execution_count": null,
   "metadata": {},
   "outputs": [],
   "source": []
  }
 ],
 "metadata": {
  "kernelspec": {
   "display_name": "Python [default]",
   "language": "python",
   "name": "python3"
  },
  "language_info": {
   "codemirror_mode": {
    "name": "ipython",
    "version": 3
   },
   "file_extension": ".py",
   "mimetype": "text/x-python",
   "name": "python",
   "nbconvert_exporter": "python",
   "pygments_lexer": "ipython3",
   "version": "3.6.4"
  }
 },
 "nbformat": 4,
 "nbformat_minor": 2
}
